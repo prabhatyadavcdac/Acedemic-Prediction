{
  "nbformat": 4,
  "nbformat_minor": 0,
  "metadata": {
    "colab": {
      "provenance": [],
      "authorship_tag": "ABX9TyPpYQ00cUkrk/zNODtLtqGm",
      "include_colab_link": true
    },
    "kernelspec": {
      "name": "python3",
      "display_name": "Python 3"
    },
    "language_info": {
      "name": "python"
    }
  },
  "cells": [
    {
      "cell_type": "markdown",
      "metadata": {
        "id": "view-in-github",
        "colab_type": "text"
      },
      "source": [
        "<a href=\"https://colab.research.google.com/github/prabhatyadavcdac/Acedemic-Prediction/blob/main/Assignment%20.ipynb\" target=\"_parent\"><img src=\"https://colab.research.google.com/assets/colab-badge.svg\" alt=\"Open In Colab\"/></a>"
      ]
    },
    {
      "cell_type": "code",
      "execution_count": 26,
      "metadata": {
        "colab": {
          "base_uri": "https://localhost:8080/"
        },
        "id": "zbDVX5xeDrTG",
        "outputId": "4062e65d-670f-40ae-97da-66c642650c4f"
      },
      "outputs": [
        {
          "output_type": "stream",
          "name": "stdout",
          "text": [
            "Enter the first integer: 33\n",
            "Enter the second integer: 44\n",
            "33 == 44 is False\n",
            "33 != 44 is True\n",
            "33 > 44 is False\n",
            "33 < 44 is True\n",
            "33 >= 44 is False\n",
            "33 <= 44 is True\n"
          ]
        }
      ],
      "source": [
        "# Take two integers from the user\n",
        "num1 = int(input(\"Enter the first integer: \"))\n",
        "num2 = int(input(\"Enter the second integer: \"))\n",
        "\n",
        "# Compare using all comparison operators\n",
        "print(f\"{num1} == {num2} is\", num1 == num2)\n",
        "print(f\"{num1} != {num2} is\", num1 != num2)\n",
        "print(f\"{num1} > {num2} is\", num1 > num2)\n",
        "print(f\"{num1} < {num2} is\", num1 < num2)\n",
        "print(f\"{num1} >= {num2} is\", num1 >= num2)\n",
        "print(f\"{num1} <= {num2} is\", num1 <= num2)"
      ]
    },
    {
      "cell_type": "code",
      "source": [],
      "metadata": {
        "id": "6xPHb-sI5JyO"
      },
      "execution_count": null,
      "outputs": []
    },
    {
      "cell_type": "code",
      "source": [
        "name = \"Prabhat Yadav\"\n",
        "age = 33\n",
        "print(f\"Name is {name} and age {age} is welcome to Arbor for an wonderful journey\")"
      ],
      "metadata": {
        "colab": {
          "base_uri": "https://localhost:8080/"
        },
        "id": "TdBFTVPatvw5",
        "outputId": "c06b5916-8c81-4c97-cf58-6489f808ad75"
      },
      "execution_count": 6,
      "outputs": [
        {
          "output_type": "stream",
          "name": "stdout",
          "text": [
            "Name is Prabhat Yadav and age 33 is welcome to Arbor for an wonderful journey\n"
          ]
        }
      ]
    },
    {
      "cell_type": "code",
      "source": [
        "Is_student = True\n",
        "print( \"welcome to Arbor for an wonderful journey\")\n",
        "print(f\"Name is {name} and age {age} is student {Is_student}\")\n",
        "\n"
      ],
      "metadata": {
        "colab": {
          "base_uri": "https://localhost:8080/"
        },
        "id": "QazGqByZvbgO",
        "outputId": "cdc4a82a-e1c9-43f9-a70e-77475451358f"
      },
      "execution_count": 14,
      "outputs": [
        {
          "output_type": "stream",
          "name": "stdout",
          "text": [
            "welcome to Arbor for an wonderful journey\n",
            "Name is Prabhat Yadav and age 33 is student True\n"
          ]
        }
      ]
    },
    {
      "cell_type": "code",
      "source": [
        "Is_student = True\n",
        "print( \"welcome to Arbor for an wonderful journey\")\n",
        "print(f\"Name is student \",Is_student)\n"
      ],
      "metadata": {
        "colab": {
          "base_uri": "https://localhost:8080/"
        },
        "id": "1cOevFe7uI-u",
        "outputId": "25bed2b3-2da8-4b81-8d22-351b5bdcad27"
      },
      "execution_count": 15,
      "outputs": [
        {
          "output_type": "stream",
          "name": "stdout",
          "text": [
            "welcome to Arbor for an wonderful journey\n",
            "Name is student  True\n"
          ]
        }
      ]
    },
    {
      "cell_type": "code",
      "source": [
        "a = 25\n",
        "b = 4\n",
        "# Addition\n",
        "addition = a + b\n",
        "print(\"Addition:\", addition)\n",
        "\n",
        "# Subtraction\n",
        "subtraction = a - b\n",
        "print (\"Subtraction:\", subtraction)\n",
        "\n",
        "# Multiplication\n",
        "multiplication = a * b\n",
        "print (\"Multiplication:\", multiplication)\n",
        "\n",
        "# Division\n",
        "division = a / b\n",
        "print (\"Division (/):\", division)\n",
        "\n",
        "# Floor division\n",
        "floor_division = a // b\n",
        "print(\"Floor Division (//):\", floor_division)\n",
        "\n",
        "# Modulus\n",
        "modulus = a % b\n",
        "print(\"Modulus:\", modulus)\n",
        "\n",
        "# Exponentiation\n",
        "exponentiation = a ** b\n",
        "print(\"Exponentiation:\", exponentiation)\n",
        "\n",
        "# Show the difference between / and //\n",
        "print(\"\\nDifference between / and //:\")\n",
        "print(\"a / b =\", a / b)\n",
        "print(\"a // b =\", a // b)\n",
        "print(f\"The Dierence Can Be Calculated that is {a/b}-{a//b} is \",a/b-a//b)\n",
        "\n"
      ],
      "metadata": {
        "colab": {
          "base_uri": "https://localhost:8080/"
        },
        "id": "-H0ylKZqzB43",
        "outputId": "24dd8e00-d5a7-460b-916d-94b11863fb13"
      },
      "execution_count": 21,
      "outputs": [
        {
          "output_type": "stream",
          "name": "stdout",
          "text": [
            "Addition: 29\n",
            "Subtraction: 21\n",
            "Multiplication: 100\n",
            "Division (/): 6.25\n",
            "Floor Division (//): 6\n",
            "Modulus: 1\n",
            "Exponentiation: 390625\n",
            "\n",
            "Difference between / and //:\n",
            "a / b = 6.25\n",
            "a // b = 6\n",
            "The Dierence Can Be Calculated that is 6.25-6 is  0.25\n"
          ]
        }
      ]
    },
    {
      "cell_type": "code",
      "source": [
        "#Assignment operator\n",
        "print(\"We are Going to See Various Assignment operator\")\n",
        "x = 10\n",
        "print(f'Initial value: {x}')\n",
        "\n",
        "x += 5\n",
        "print(\"After 10 += 5 \",x)\n",
        "\n",
        "x -= 3\n",
        "print(f'After previous x value -= 3: {x}')\n",
        "\n",
        "x *= 2\n",
        "print(f'After previous x value *= 2: {x}')\n",
        "\n",
        "x /= 4\n",
        "print(f'After previous x value /= 4: {x}')\n",
        "\n",
        "x %= 3\n",
        "print(f'After previous x value %= 3: {x}')\n",
        "\n",
        "x **= 2\n",
        "print(f'After previous x value **= 2: {x}')\n",
        "\n",
        "x //= 2\n",
        "print(f'After previous x value //= 2: {x}')"
      ],
      "metadata": {
        "colab": {
          "base_uri": "https://localhost:8080/"
        },
        "id": "OOyTJCBM5MNM",
        "outputId": "e43cae8c-15ea-43e6-93ac-efe1d5cd4ab3"
      },
      "execution_count": 36,
      "outputs": [
        {
          "output_type": "stream",
          "name": "stdout",
          "text": [
            "We are Going to See Various Assignment operator\n",
            "Initial value: 10\n",
            "After 10 += 5  15\n",
            "After previous x value -= 3: 12\n",
            "After previous x value *= 2: 24\n",
            "After previous x value /= 4: 6.0\n",
            "After previous x value %= 3: 0.0\n",
            "After previous x value **= 2: 0.0\n",
            "After previous x value //= 2: 0.0\n"
          ]
        }
      ]
    },
    {
      "cell_type": "code",
      "source": [
        "#checking \"py\" in \"python programming\" using membership\n",
        "print('\"Py\" in \"Python Programming\":', \"Py\" in \"Python Programming\")\n",
        "\n",
        "# Check if \"Java\" is not in \"Python Programming\" using membership\n",
        "print('\"Java\" not in \"Python Programming\":', \"Java\" not in \"Python Programming\")\n",
        "\n",
        "# Check if two variables referring to the same number have the same identity\n",
        "a = 1000\n",
        "b = 1000\n",
        "\n",
        "print('a == b:', a == b)           # Checks if values are equal\n",
        "print('a is b:', a is b)           # Checks if a and b refer to the same object\n",
        "print('a is not b:', a is not b)   # Checks if a and b do not refer to the same object\n",
        "\n",
        "\n",
        "\n"
      ],
      "metadata": {
        "colab": {
          "base_uri": "https://localhost:8080/"
        },
        "id": "qXfU74Oh_BCl",
        "outputId": "ac9f862e-c32f-4e4a-bd04-d91d0dbf8a12"
      },
      "execution_count": 38,
      "outputs": [
        {
          "output_type": "stream",
          "name": "stdout",
          "text": [
            "\"Py\" in \"Python Programming\": True\n",
            "\"Java\" not in \"Python Programming\": True\n",
            "a == b: True\n",
            "a is b: False\n",
            "a is not b: True\n"
          ]
        }
      ]
    },
    {
      "cell_type": "code",
      "source": [
        "txt = \"DataAnalytics\"\n",
        "\n",
        "# First character\n",
        "first_char = txt[0]\n",
        "\n",
        "# Last character\n",
        "last_char = txt[-1]\n",
        "\n",
        "# Middle character (since the string length is 13, middle index is 6)\n",
        "middle_char = txt[len(txt) // 2]\n",
        "\n",
        "# Characters from index 2 to 6 (inclusive of start, exclusive of end)\n",
        "substring = txt[2:7]\n",
        "\n",
        "# String in reverse using slicing\n",
        "reversed_txt = txt[::-1]\n",
        "\n",
        "print(\"First character:\", first_char)\n",
        "print(\"Last character:\", last_char)\n",
        "print(\"Middle character:\", middle_char)\n",
        "print(\"Characters from index 2 to 6:\", substring)\n",
        "print(\"Reversed string:\", reversed_txt)"
      ],
      "metadata": {
        "colab": {
          "base_uri": "https://localhost:8080/"
        },
        "id": "2auHlWUrBAMf",
        "outputId": "5ffe924e-8bf6-44f1-bd8f-91059f684277"
      },
      "execution_count": 40,
      "outputs": [
        {
          "output_type": "stream",
          "name": "stdout",
          "text": [
            "First character: D\n",
            "Last character: s\n",
            "Middle character: a\n",
            "Characters from index 2 to 6: taAna\n",
            "Reversed string: scitylanAataD\n"
          ]
        }
      ]
    },
    {
      "cell_type": "code",
      "source": [
        "#various inbuild String operations Available\n",
        "sentence = \"Python programming is FUN\"\n",
        "\n",
        "# Count how many times \"o\" appears\n",
        "count_o = sentence.count(\"o\")\n",
        "\n",
        "# Convert to lowercase\n",
        "lowercase_sentence = sentence.lower()\n",
        "\n",
        "# Convert to uppercase\n",
        "uppercase_sentence = sentence.upper()\n",
        "\n",
        "# Replace \"FUN\" with \"amazing\"\n",
        "replaced_sentence = sentence.replace(\"FUN\", \"amazing\")\n",
        "\n",
        "# Split into words\n",
        "words = sentence.split()\n",
        "\n",
        "# Print the results\n",
        "print(\"Number of 'o's:\", count_o)\n",
        "print(\"Lowercase:\", lowercase_sentence)\n",
        "print(\"Uppercase:\", uppercase_sentence)\n",
        "print(\"Replaced sentence:\", replaced_sentence)\n",
        "print(\"Split into words:\", words)\n"
      ],
      "metadata": {
        "colab": {
          "base_uri": "https://localhost:8080/"
        },
        "id": "YK9N35DbDKm9",
        "outputId": "b08169b2-4504-4143-94d3-2c7fedb69ed3"
      },
      "execution_count": 41,
      "outputs": [
        {
          "output_type": "stream",
          "name": "stdout",
          "text": [
            "Number of 'o's: 2\n",
            "Lowercase: python programming is fun\n",
            "Uppercase: PYTHON PROGRAMMING IS FUN\n",
            "Replaced sentence: Python programming is amazing\n",
            "Split into words: ['Python', 'programming', 'is', 'FUN']\n"
          ]
        }
      ]
    },
    {
      "cell_type": "code",
      "source": [
        "# Create a list with 5 different elements (mixed data types)\n",
        "my_list = [42, \"hello\", 3.14, True, [1, 2, 3]]\n",
        "print(\"My Created list\",my_list)\n",
        "\n",
        "# Append one element\n",
        "my_list.append(\"new_element\")\n",
        "print(\"New List After Appending new_element \",my_list)\n",
        "\n",
        "# Insert a new element at index 2\n",
        "my_list.insert(2, \"inserted_element\")\n",
        "print(\"After insertion of inserted_element the list is \",my_list)\n",
        "# Remove the last element using pop()\n",
        "last_element = my_list.pop()\n",
        "\n",
        "# Reverse the list\n",
        "my_list.reverse()\n",
        "\n",
        "# Count how many times a specific value appears (for example, 42)\n",
        "count_42 = my_list.count(42)\n",
        "\n",
        "# Print the results\n",
        "print(\"Finally Modified list:\", my_list)\n",
        "print(\"Popped element:\", last_element)\n",
        "print(\"Count of 42 in list:\", count_42)"
      ],
      "metadata": {
        "colab": {
          "base_uri": "https://localhost:8080/"
        },
        "id": "EIjmSlH8EeN0",
        "outputId": "24d40f1e-bcfb-4b50-f118-c6154d53bdb3"
      },
      "execution_count": 52,
      "outputs": [
        {
          "output_type": "stream",
          "name": "stdout",
          "text": [
            "My Created list [42, 'hello', 3.14, True, [1, 2, 3]]\n",
            "New List After Appending new_element  [42, 'hello', 3.14, True, [1, 2, 3], 'new_element']\n",
            "After insertion of inserted_element the list is  [42, 'hello', 'inserted_element', 3.14, True, [1, 2, 3], 'new_element']\n",
            "Finally Modified list: [[1, 2, 3], True, 3.14, 'inserted_element', 'hello', 42]\n",
            "Popped element: new_element\n",
            "Count of 42 in list: 1\n"
          ]
        }
      ]
    },
    {
      "cell_type": "code",
      "source": [
        "list1 = [1, 2, 3]\n",
        "list2 = [4, 5]\n",
        "\n",
        "# Concatenate the lists\n",
        "concatenated_list = list1 + list2\n",
        "print(\"Concatenated list:\", concatenated_list)\n",
        "\n",
        "# Multiply list1 by 3\n",
        "multiplied_list = list1 * 3\n",
        "print(\"List1 multiplied by 3:\", multiplied_list)\n"
      ],
      "metadata": {
        "colab": {
          "base_uri": "https://localhost:8080/"
        },
        "id": "DGdvYQXAHGIm",
        "outputId": "a4ec3c32-e79d-4d35-c395-693050e37977"
      },
      "execution_count": 54,
      "outputs": [
        {
          "output_type": "stream",
          "name": "stdout",
          "text": [
            "Concatenated list: [1, 2, 3, 4, 5]\n",
            "List1 multiplied by 3: [1, 2, 3, 1, 2, 3, 1, 2, 3]\n"
          ]
        }
      ]
    },
    {
      "cell_type": "code",
      "source": [
        "# Create a tuple of 6 values\n",
        "my_tuple = (10, 'apple', 3.14, True, 'banana', 10)\n",
        "\n",
        "# Access the first and last elements\n",
        "first_element = my_tuple[0]\n",
        "last_element = my_tuple[-1]\n",
        "\n",
        "# Slice the tuple from index 2 to 5 (excluding index 5)\n",
        "slice_tuple = my_tuple[2:5]\n",
        "\n",
        "# Count how many times a certain value occurs (e.g., 10)\n",
        "count_10 = my_tuple.count(10)\n",
        "\n",
        "# Find the index of a specific element (e.g., 'banana')\n",
        "index_banana = my_tuple.index('banana')\n",
        "\n",
        "# Print the results\n",
        "print(\"First element:\", first_element)\n",
        "print(\"Last element:\", last_element)\n",
        "print(\"Slice from index 2 to 5:\", slice_tuple)\n",
        "print(\"Count of 10 in tuple:\", count_10)\n",
        "print(\"Index of 'banana':\", index_banana)"
      ],
      "metadata": {
        "colab": {
          "base_uri": "https://localhost:8080/"
        },
        "id": "v3bqfP_kHuDq",
        "outputId": "8a61e277-779d-43b1-f167-cfbb9519e9c1"
      },
      "execution_count": 55,
      "outputs": [
        {
          "output_type": "stream",
          "name": "stdout",
          "text": [
            "First element: 10\n",
            "Last element: 10\n",
            "Slice from index 2 to 5: (3.14, True, 'banana')\n",
            "Count of 10 in tuple: 2\n",
            "Index of 'banana': 4\n"
          ]
        }
      ]
    }
  ]
}